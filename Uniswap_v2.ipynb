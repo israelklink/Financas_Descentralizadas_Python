{
  "nbformat": 4,
  "nbformat_minor": 0,
  "metadata": {
    "colab": {
      "provenance": [],
      "mount_file_id": "1bHEF0c5PtVTAAllehnDKafvCtG3cSRXv",
      "authorship_tag": "ABX9TyObMXJ4aCjVjq6wz91lqsy0",
      "include_colab_link": true
    },
    "kernelspec": {
      "name": "python3",
      "display_name": "Python 3"
    },
    "language_info": {
      "name": "python"
    }
  },
  "cells": [
    {
      "cell_type": "markdown",
      "metadata": {
        "id": "view-in-github",
        "colab_type": "text"
      },
      "source": [
        "<a href=\"https://colab.research.google.com/github/israelklink/Financas_Descentralizadas_Python/blob/main/Uniswap_v2.ipynb\" target=\"_parent\"><img src=\"https://colab.research.google.com/assets/colab-badge.svg\" alt=\"Open In Colab\"/></a>"
      ]
    },
    {
      "cell_type": "code",
      "source": [
        "!pip install uniswap-python\n",
        "!pip install UniswapPy\n",
        "# !pip install pymc3\n",
        "!pip install git+https://github.com/pymc-devs/pymc3\n",
        "!pip install git clone https://github.com/defipy-devs/defipy\n",
        "!pip install dune-client\n",
        "!pip install pyodbc"
      ],
      "metadata": {
        "colab": {
          "base_uri": "https://localhost:8080/"
        },
        "id": "6kJEMu_b_-Cw",
        "outputId": "e051d6e8-2f8e-480b-8874-a9ba71f79ec8"
      },
      "execution_count": null,
      "outputs": [
        {
          "output_type": "stream",
          "name": "stdout",
          "text": [
            "Requirement already satisfied: uniswap-python in /usr/local/lib/python3.11/dist-packages (0.7.1)\n",
            "Requirement already satisfied: click<9.0.0,>=8.0.3 in /usr/local/lib/python3.11/dist-packages (from uniswap-python) (8.2.1)\n",
            "Requirement already satisfied: python-dotenv in /usr/local/lib/python3.11/dist-packages (from uniswap-python) (1.1.1)\n",
            "Requirement already satisfied: typing-extensions in /usr/local/lib/python3.11/dist-packages (from uniswap-python) (4.14.0)\n",
            "Requirement already satisfied: web3<7.0,>=6.0 in /usr/local/lib/python3.11/dist-packages (from uniswap-python) (6.20.4)\n",
            "Requirement already satisfied: aiohttp>=3.7.4.post0 in /usr/local/lib/python3.11/dist-packages (from web3<7.0,>=6.0->uniswap-python) (3.11.15)\n",
            "Requirement already satisfied: ckzg<2 in /usr/local/lib/python3.11/dist-packages (from web3<7.0,>=6.0->uniswap-python) (1.0.2)\n",
            "Requirement already satisfied: eth-abi>=4.0.0 in /usr/local/lib/python3.11/dist-packages (from web3<7.0,>=6.0->uniswap-python) (5.2.0)\n",
            "Requirement already satisfied: eth-account<0.13,>=0.8.0 in /usr/local/lib/python3.11/dist-packages (from web3<7.0,>=6.0->uniswap-python) (0.11.3)\n",
            "Requirement already satisfied: eth-hash>=0.5.1 in /usr/local/lib/python3.11/dist-packages (from eth-hash[pycryptodome]>=0.5.1->web3<7.0,>=6.0->uniswap-python) (0.7.1)\n",
            "Requirement already satisfied: eth-typing!=4.2.0,<5.0.0,>=3.0.0 in /usr/local/lib/python3.11/dist-packages (from web3<7.0,>=6.0->uniswap-python) (4.4.0)\n",
            "Requirement already satisfied: eth-utils<5,>=2.1.0 in /usr/local/lib/python3.11/dist-packages (from web3<7.0,>=6.0->uniswap-python) (4.1.1)\n",
            "Requirement already satisfied: hexbytes<0.4.0,>=0.1.0 in /usr/local/lib/python3.11/dist-packages (from web3<7.0,>=6.0->uniswap-python) (0.3.1)\n",
            "Requirement already satisfied: jsonschema>=4.0.0 in /usr/local/lib/python3.11/dist-packages (from web3<7.0,>=6.0->uniswap-python) (4.24.0)\n",
            "Requirement already satisfied: lru-dict<1.3.0,>=1.1.6 in /usr/local/lib/python3.11/dist-packages (from web3<7.0,>=6.0->uniswap-python) (1.2.0)\n",
            "Requirement already satisfied: protobuf>=4.21.6 in /usr/local/lib/python3.11/dist-packages (from web3<7.0,>=6.0->uniswap-python) (5.29.5)\n",
            "Requirement already satisfied: requests>=2.16.0 in /usr/local/lib/python3.11/dist-packages (from web3<7.0,>=6.0->uniswap-python) (2.32.3)\n",
            "Requirement already satisfied: websockets<14.0.0,>=10.0.0 in /usr/local/lib/python3.11/dist-packages (from web3<7.0,>=6.0->uniswap-python) (13.1)\n",
            "Requirement already satisfied: pyunormalize>=15.0.0 in /usr/local/lib/python3.11/dist-packages (from web3<7.0,>=6.0->uniswap-python) (16.0.0)\n",
            "Requirement already satisfied: aiohappyeyeballs>=2.3.0 in /usr/local/lib/python3.11/dist-packages (from aiohttp>=3.7.4.post0->web3<7.0,>=6.0->uniswap-python) (2.6.1)\n",
            "Requirement already satisfied: aiosignal>=1.1.2 in /usr/local/lib/python3.11/dist-packages (from aiohttp>=3.7.4.post0->web3<7.0,>=6.0->uniswap-python) (1.3.2)\n",
            "Requirement already satisfied: attrs>=17.3.0 in /usr/local/lib/python3.11/dist-packages (from aiohttp>=3.7.4.post0->web3<7.0,>=6.0->uniswap-python) (25.3.0)\n",
            "Requirement already satisfied: frozenlist>=1.1.1 in /usr/local/lib/python3.11/dist-packages (from aiohttp>=3.7.4.post0->web3<7.0,>=6.0->uniswap-python) (1.7.0)\n",
            "Requirement already satisfied: multidict<7.0,>=4.5 in /usr/local/lib/python3.11/dist-packages (from aiohttp>=3.7.4.post0->web3<7.0,>=6.0->uniswap-python) (6.6.3)\n",
            "Requirement already satisfied: propcache>=0.2.0 in /usr/local/lib/python3.11/dist-packages (from aiohttp>=3.7.4.post0->web3<7.0,>=6.0->uniswap-python) (0.3.2)\n",
            "Requirement already satisfied: yarl<2.0,>=1.17.0 in /usr/local/lib/python3.11/dist-packages (from aiohttp>=3.7.4.post0->web3<7.0,>=6.0->uniswap-python) (1.20.1)\n",
            "Requirement already satisfied: parsimonious<0.11.0,>=0.10.0 in /usr/local/lib/python3.11/dist-packages (from eth-abi>=4.0.0->web3<7.0,>=6.0->uniswap-python) (0.10.0)\n",
            "Requirement already satisfied: bitarray>=2.4.0 in /usr/local/lib/python3.11/dist-packages (from eth-account<0.13,>=0.8.0->web3<7.0,>=6.0->uniswap-python) (3.4.3)\n",
            "Requirement already satisfied: eth-keyfile>=0.6.0 in /usr/local/lib/python3.11/dist-packages (from eth-account<0.13,>=0.8.0->web3<7.0,>=6.0->uniswap-python) (0.9.1)\n",
            "Requirement already satisfied: eth-keys>=0.4.0 in /usr/local/lib/python3.11/dist-packages (from eth-account<0.13,>=0.8.0->web3<7.0,>=6.0->uniswap-python) (0.7.0)\n",
            "Requirement already satisfied: eth-rlp>=0.3.0 in /usr/local/lib/python3.11/dist-packages (from eth-account<0.13,>=0.8.0->web3<7.0,>=6.0->uniswap-python) (1.0.1)\n",
            "Requirement already satisfied: rlp>=1.0.0 in /usr/local/lib/python3.11/dist-packages (from eth-account<0.13,>=0.8.0->web3<7.0,>=6.0->uniswap-python) (4.1.0)\n",
            "Requirement already satisfied: pycryptodome<4,>=3.6.6 in /usr/local/lib/python3.11/dist-packages (from eth-hash[pycryptodome]>=0.5.1->web3<7.0,>=6.0->uniswap-python) (3.23.0)\n",
            "Requirement already satisfied: cytoolz>=0.10.1 in /usr/local/lib/python3.11/dist-packages (from eth-utils<5,>=2.1.0->web3<7.0,>=6.0->uniswap-python) (1.0.1)\n",
            "Requirement already satisfied: jsonschema-specifications>=2023.03.6 in /usr/local/lib/python3.11/dist-packages (from jsonschema>=4.0.0->web3<7.0,>=6.0->uniswap-python) (2025.4.1)\n",
            "Requirement already satisfied: referencing>=0.28.4 in /usr/local/lib/python3.11/dist-packages (from jsonschema>=4.0.0->web3<7.0,>=6.0->uniswap-python) (0.36.2)\n",
            "Requirement already satisfied: rpds-py>=0.7.1 in /usr/local/lib/python3.11/dist-packages (from jsonschema>=4.0.0->web3<7.0,>=6.0->uniswap-python) (0.26.0)\n",
            "Requirement already satisfied: charset-normalizer<4,>=2 in /usr/local/lib/python3.11/dist-packages (from requests>=2.16.0->web3<7.0,>=6.0->uniswap-python) (3.4.2)\n",
            "Requirement already satisfied: idna<4,>=2.5 in /usr/local/lib/python3.11/dist-packages (from requests>=2.16.0->web3<7.0,>=6.0->uniswap-python) (3.10)\n",
            "Requirement already satisfied: urllib3<3,>=1.21.1 in /usr/local/lib/python3.11/dist-packages (from requests>=2.16.0->web3<7.0,>=6.0->uniswap-python) (2.4.0)\n",
            "Requirement already satisfied: certifi>=2017.4.17 in /usr/local/lib/python3.11/dist-packages (from requests>=2.16.0->web3<7.0,>=6.0->uniswap-python) (2025.6.15)\n",
            "Requirement already satisfied: toolz>=0.8.0 in /usr/local/lib/python3.11/dist-packages (from cytoolz>=0.10.1->eth-utils<5,>=2.1.0->web3<7.0,>=6.0->uniswap-python) (0.12.1)\n",
            "Requirement already satisfied: py_ecc>=5.2.0 in /usr/local/lib/python3.11/dist-packages (from eth-keyfile>=0.6.0->eth-account<0.13,>=0.8.0->web3<7.0,>=6.0->uniswap-python) (8.0.0)\n",
            "Requirement already satisfied: regex>=2022.3.15 in /usr/local/lib/python3.11/dist-packages (from parsimonious<0.11.0,>=0.10.0->eth-abi>=4.0.0->web3<7.0,>=6.0->uniswap-python) (2024.11.6)\n",
            "Requirement already satisfied: UniswapPy in /usr/local/lib/python3.11/dist-packages (1.7.4)\n",
            "Requirement already satisfied: scipy>=1.7.3 in /usr/local/lib/python3.11/dist-packages (from UniswapPy) (1.15.3)\n",
            "Requirement already satisfied: termcolor>=2.4.0 in /usr/local/lib/python3.11/dist-packages (from UniswapPy) (3.1.0)\n",
            "Requirement already satisfied: numpy<2.5,>=1.23.5 in /usr/local/lib/python3.11/dist-packages (from scipy>=1.7.3->UniswapPy) (2.0.2)\n",
            "Collecting git+https://github.com/pymc-devs/pymc3\n",
            "  Cloning https://github.com/pymc-devs/pymc3 to /tmp/pip-req-build-95kj3ypj\n",
            "  Running command git clone --filter=blob:none --quiet https://github.com/pymc-devs/pymc3 /tmp/pip-req-build-95kj3ypj\n",
            "  Resolved https://github.com/pymc-devs/pymc3 to commit 794b5b865db0cab084bfb75ae627dfd540238253\n",
            "  Installing build dependencies ... \u001b[?25l\u001b[?25hdone\n",
            "  Getting requirements to build wheel ... \u001b[?25l\u001b[?25hdone\n",
            "  Preparing metadata (pyproject.toml) ... \u001b[?25l\u001b[?25hdone\n",
            "Requirement already satisfied: arviz>=0.13.0 in /usr/local/lib/python3.11/dist-packages (from pymc==5.23.0+15.g794b5b86) (0.21.0)\n",
            "Requirement already satisfied: cachetools>=4.2.1 in /usr/local/lib/python3.11/dist-packages (from pymc==5.23.0+15.g794b5b86) (5.5.2)\n",
            "Requirement already satisfied: cloudpickle in /usr/local/lib/python3.11/dist-packages (from pymc==5.23.0+15.g794b5b86) (3.1.1)\n",
            "Requirement already satisfied: numpy>=1.25.0 in /usr/local/lib/python3.11/dist-packages (from pymc==5.23.0+15.g794b5b86) (2.0.2)\n",
            "Requirement already satisfied: pandas>=0.24.0 in /usr/local/lib/python3.11/dist-packages (from pymc==5.23.0+15.g794b5b86) (2.2.2)\n",
            "Requirement already satisfied: pytensor<2.32,>=2.31.2 in /usr/local/lib/python3.11/dist-packages (from pymc==5.23.0+15.g794b5b86) (2.31.5)\n",
            "Requirement already satisfied: rich>=13.7.1 in /usr/local/lib/python3.11/dist-packages (from pymc==5.23.0+15.g794b5b86) (13.9.4)\n",
            "Requirement already satisfied: scipy>=1.4.1 in /usr/local/lib/python3.11/dist-packages (from pymc==5.23.0+15.g794b5b86) (1.15.3)\n",
            "Requirement already satisfied: threadpoolctl<4.0.0,>=3.1.0 in /usr/local/lib/python3.11/dist-packages (from pymc==5.23.0+15.g794b5b86) (3.6.0)\n",
            "Requirement already satisfied: typing-extensions>=3.7.4 in /usr/local/lib/python3.11/dist-packages (from pymc==5.23.0+15.g794b5b86) (4.14.0)\n",
            "Requirement already satisfied: setuptools>=60.0.0 in /usr/local/lib/python3.11/dist-packages (from arviz>=0.13.0->pymc==5.23.0+15.g794b5b86) (75.2.0)\n",
            "Requirement already satisfied: matplotlib>=3.5 in /usr/local/lib/python3.11/dist-packages (from arviz>=0.13.0->pymc==5.23.0+15.g794b5b86) (3.10.0)\n",
            "Requirement already satisfied: packaging in /usr/local/lib/python3.11/dist-packages (from arviz>=0.13.0->pymc==5.23.0+15.g794b5b86) (24.2)\n",
            "Requirement already satisfied: xarray>=2022.6.0 in /usr/local/lib/python3.11/dist-packages (from arviz>=0.13.0->pymc==5.23.0+15.g794b5b86) (2025.3.1)\n",
            "Requirement already satisfied: h5netcdf>=1.0.2 in /usr/local/lib/python3.11/dist-packages (from arviz>=0.13.0->pymc==5.23.0+15.g794b5b86) (1.6.3)\n",
            "Requirement already satisfied: xarray-einstats>=0.3 in /usr/local/lib/python3.11/dist-packages (from arviz>=0.13.0->pymc==5.23.0+15.g794b5b86) (0.9.1)\n",
            "Requirement already satisfied: python-dateutil>=2.8.2 in /usr/local/lib/python3.11/dist-packages (from pandas>=0.24.0->pymc==5.23.0+15.g794b5b86) (2.9.0.post0)\n",
            "Requirement already satisfied: pytz>=2020.1 in /usr/local/lib/python3.11/dist-packages (from pandas>=0.24.0->pymc==5.23.0+15.g794b5b86) (2025.2)\n",
            "Requirement already satisfied: tzdata>=2022.7 in /usr/local/lib/python3.11/dist-packages (from pandas>=0.24.0->pymc==5.23.0+15.g794b5b86) (2025.2)\n",
            "Requirement already satisfied: filelock>=3.15 in /usr/local/lib/python3.11/dist-packages (from pytensor<2.32,>=2.31.2->pymc==5.23.0+15.g794b5b86) (3.18.0)\n",
            "Requirement already satisfied: etuples in /usr/local/lib/python3.11/dist-packages (from pytensor<2.32,>=2.31.2->pymc==5.23.0+15.g794b5b86) (0.3.9)\n",
            "Requirement already satisfied: logical-unification in /usr/local/lib/python3.11/dist-packages (from pytensor<2.32,>=2.31.2->pymc==5.23.0+15.g794b5b86) (0.4.6)\n",
            "Requirement already satisfied: miniKanren!=1.0.4 in /usr/local/lib/python3.11/dist-packages (from pytensor<2.32,>=2.31.2->pymc==5.23.0+15.g794b5b86) (1.0.3)\n",
            "Requirement already satisfied: cons in /usr/local/lib/python3.11/dist-packages (from pytensor<2.32,>=2.31.2->pymc==5.23.0+15.g794b5b86) (0.4.6)\n",
            "Requirement already satisfied: markdown-it-py>=2.2.0 in /usr/local/lib/python3.11/dist-packages (from rich>=13.7.1->pymc==5.23.0+15.g794b5b86) (3.0.0)\n",
            "Requirement already satisfied: pygments<3.0.0,>=2.13.0 in /usr/local/lib/python3.11/dist-packages (from rich>=13.7.1->pymc==5.23.0+15.g794b5b86) (2.19.2)\n",
            "Requirement already satisfied: h5py in /usr/local/lib/python3.11/dist-packages (from h5netcdf>=1.0.2->arviz>=0.13.0->pymc==5.23.0+15.g794b5b86) (3.14.0)\n",
            "Requirement already satisfied: mdurl~=0.1 in /usr/local/lib/python3.11/dist-packages (from markdown-it-py>=2.2.0->rich>=13.7.1->pymc==5.23.0+15.g794b5b86) (0.1.2)\n",
            "Requirement already satisfied: contourpy>=1.0.1 in /usr/local/lib/python3.11/dist-packages (from matplotlib>=3.5->arviz>=0.13.0->pymc==5.23.0+15.g794b5b86) (1.3.2)\n",
            "Requirement already satisfied: cycler>=0.10 in /usr/local/lib/python3.11/dist-packages (from matplotlib>=3.5->arviz>=0.13.0->pymc==5.23.0+15.g794b5b86) (0.12.1)\n",
            "Requirement already satisfied: fonttools>=4.22.0 in /usr/local/lib/python3.11/dist-packages (from matplotlib>=3.5->arviz>=0.13.0->pymc==5.23.0+15.g794b5b86) (4.58.4)\n",
            "Requirement already satisfied: kiwisolver>=1.3.1 in /usr/local/lib/python3.11/dist-packages (from matplotlib>=3.5->arviz>=0.13.0->pymc==5.23.0+15.g794b5b86) (1.4.8)\n",
            "Requirement already satisfied: pillow>=8 in /usr/local/lib/python3.11/dist-packages (from matplotlib>=3.5->arviz>=0.13.0->pymc==5.23.0+15.g794b5b86) (11.2.1)\n",
            "Requirement already satisfied: pyparsing>=2.3.1 in /usr/local/lib/python3.11/dist-packages (from matplotlib>=3.5->arviz>=0.13.0->pymc==5.23.0+15.g794b5b86) (3.2.3)\n",
            "Requirement already satisfied: toolz in /usr/local/lib/python3.11/dist-packages (from miniKanren!=1.0.4->pytensor<2.32,>=2.31.2->pymc==5.23.0+15.g794b5b86) (0.12.1)\n",
            "Requirement already satisfied: multipledispatch in /usr/local/lib/python3.11/dist-packages (from miniKanren!=1.0.4->pytensor<2.32,>=2.31.2->pymc==5.23.0+15.g794b5b86) (1.0.0)\n",
            "Requirement already satisfied: six>=1.5 in /usr/local/lib/python3.11/dist-packages (from python-dateutil>=2.8.2->pandas>=0.24.0->pymc==5.23.0+15.g794b5b86) (1.17.0)\n",
            "Collecting https://github.com/defipy-devs/defipy\n",
            "  Downloading https://github.com/defipy-devs/defipy\n",
            "\u001b[2K     \u001b[32m-\u001b[0m \u001b[32m305.9 kB\u001b[0m \u001b[31m25.5 MB/s\u001b[0m \u001b[33m0:00:00\u001b[0m\n",
            "\u001b[?25h\u001b[31m  ERROR: Cannot unpack file /tmp/pip-unpack-o_e6wsyz/defipy (downloaded from /tmp/pip-req-build-2s0btdim, content-type: text/html; charset=utf-8); cannot detect archive format\u001b[0m\u001b[31m\n",
            "\u001b[0m\u001b[31mERROR: Cannot determine archive format of /tmp/pip-req-build-2s0btdim\u001b[0m\u001b[31m\n",
            "\u001b[0mRequirement already satisfied: dune-client in /usr/local/lib/python3.11/dist-packages (1.7.9)\n",
            "Requirement already satisfied: aiohttp>=3.8.3 in /usr/local/lib/python3.11/dist-packages (from dune-client) (3.11.15)\n",
            "Requirement already satisfied: dataclasses-json>=0.6.4 in /usr/local/lib/python3.11/dist-packages (from dune-client) (0.6.7)\n",
            "Requirement already satisfied: types-python-dateutil>=2.8.19 in /usr/local/lib/python3.11/dist-packages (from dune-client) (2.9.0.20250516)\n",
            "Requirement already satisfied: types-PyYAML>=6.0.11 in /usr/local/lib/python3.11/dist-packages (from dune-client) (6.0.12.20250516)\n",
            "Requirement already satisfied: types-requests>=2.28.0 in /usr/local/lib/python3.11/dist-packages (from dune-client) (2.32.4.20250611)\n",
            "Requirement already satisfied: types-Deprecated>=1.2.9.3 in /usr/local/lib/python3.11/dist-packages (from dune-client) (1.2.15.20250304)\n",
            "Requirement already satisfied: types-setuptools>=68.2.0.0 in /usr/local/lib/python3.11/dist-packages (from dune-client) (80.9.0.20250529)\n",
            "Requirement already satisfied: python-dateutil>=2.8.2 in /usr/local/lib/python3.11/dist-packages (from dune-client) (2.9.0.post0)\n",
            "Requirement already satisfied: requests>=2.28.0 in /usr/local/lib/python3.11/dist-packages (from dune-client) (2.32.3)\n",
            "Requirement already satisfied: ndjson>=0.3.1 in /usr/local/lib/python3.11/dist-packages (from dune-client) (0.3.1)\n",
            "Requirement already satisfied: Deprecated>=1.2.0 in /usr/local/lib/python3.11/dist-packages (from dune-client) (1.2.18)\n",
            "Requirement already satisfied: aiohappyeyeballs>=2.3.0 in /usr/local/lib/python3.11/dist-packages (from aiohttp>=3.8.3->dune-client) (2.6.1)\n",
            "Requirement already satisfied: aiosignal>=1.1.2 in /usr/local/lib/python3.11/dist-packages (from aiohttp>=3.8.3->dune-client) (1.3.2)\n",
            "Requirement already satisfied: attrs>=17.3.0 in /usr/local/lib/python3.11/dist-packages (from aiohttp>=3.8.3->dune-client) (25.3.0)\n",
            "Requirement already satisfied: frozenlist>=1.1.1 in /usr/local/lib/python3.11/dist-packages (from aiohttp>=3.8.3->dune-client) (1.7.0)\n",
            "Requirement already satisfied: multidict<7.0,>=4.5 in /usr/local/lib/python3.11/dist-packages (from aiohttp>=3.8.3->dune-client) (6.6.3)\n",
            "Requirement already satisfied: propcache>=0.2.0 in /usr/local/lib/python3.11/dist-packages (from aiohttp>=3.8.3->dune-client) (0.3.2)\n",
            "Requirement already satisfied: yarl<2.0,>=1.17.0 in /usr/local/lib/python3.11/dist-packages (from aiohttp>=3.8.3->dune-client) (1.20.1)\n",
            "Requirement already satisfied: marshmallow<4.0.0,>=3.18.0 in /usr/local/lib/python3.11/dist-packages (from dataclasses-json>=0.6.4->dune-client) (3.26.1)\n",
            "Requirement already satisfied: typing-inspect<1,>=0.4.0 in /usr/local/lib/python3.11/dist-packages (from dataclasses-json>=0.6.4->dune-client) (0.9.0)\n",
            "Requirement already satisfied: wrapt<2,>=1.10 in /usr/local/lib/python3.11/dist-packages (from Deprecated>=1.2.0->dune-client) (1.17.2)\n",
            "Requirement already satisfied: six>=1.5 in /usr/local/lib/python3.11/dist-packages (from python-dateutil>=2.8.2->dune-client) (1.17.0)\n",
            "Requirement already satisfied: charset-normalizer<4,>=2 in /usr/local/lib/python3.11/dist-packages (from requests>=2.28.0->dune-client) (3.4.2)\n",
            "Requirement already satisfied: idna<4,>=2.5 in /usr/local/lib/python3.11/dist-packages (from requests>=2.28.0->dune-client) (3.10)\n",
            "Requirement already satisfied: urllib3<3,>=1.21.1 in /usr/local/lib/python3.11/dist-packages (from requests>=2.28.0->dune-client) (2.4.0)\n",
            "Requirement already satisfied: certifi>=2017.4.17 in /usr/local/lib/python3.11/dist-packages (from requests>=2.28.0->dune-client) (2025.6.15)\n",
            "Requirement already satisfied: packaging>=17.0 in /usr/local/lib/python3.11/dist-packages (from marshmallow<4.0.0,>=3.18.0->dataclasses-json>=0.6.4->dune-client) (24.2)\n",
            "Requirement already satisfied: mypy-extensions>=0.3.0 in /usr/local/lib/python3.11/dist-packages (from typing-inspect<1,>=0.4.0->dataclasses-json>=0.6.4->dune-client) (1.1.0)\n",
            "Requirement already satisfied: typing-extensions>=3.7.4 in /usr/local/lib/python3.11/dist-packages (from typing-inspect<1,>=0.4.0->dataclasses-json>=0.6.4->dune-client) (4.14.0)\n",
            "Requirement already satisfied: pyodbc in /usr/local/lib/python3.11/dist-packages (5.2.0)\n"
          ]
        }
      ]
    },
    {
      "cell_type": "code",
      "source": [
        "from uniswappy import *\n",
        "import numpy as np\n",
        "import matplotlib.pyplot as plt\n",
        "import math"
      ],
      "metadata": {
        "id": "zO8iHk3YIVcT"
      },
      "execution_count": null,
      "outputs": []
    },
    {
      "cell_type": "code",
      "source": [],
      "metadata": {
        "id": "uf8pudMpwR8F"
      },
      "execution_count": null,
      "outputs": []
    },
    {
      "cell_type": "code",
      "source": [
        "user_nm = 'aluno'\n",
        "eth_amount = 1000\n",
        "dai_amount = 1000000\n",
        "\n",
        "print(\"1 ETH é = \", dai_amount/eth_amount, \"DAI\")"
      ],
      "metadata": {
        "colab": {
          "base_uri": "https://localhost:8080/"
        },
        "id": "xsE4D8460_aq",
        "outputId": "eca647cf-e094-4f6b-9ed2-812ed50b8e03"
      },
      "execution_count": null,
      "outputs": [
        {
          "output_type": "stream",
          "name": "stdout",
          "text": [
            "1 ETH é =  1000.0 DAI\n"
          ]
        }
      ]
    },
    {
      "cell_type": "code",
      "source": [
        "dai = ERC20(\"DAI\", \"0x111\")\n",
        "eth = ERC20(\"ETH\", \"0x09\")\n",
        "exchg_data = UniswapExchangeData(tkn0 = eth, tkn1 = dai, symbol=\"LP\", address=\"0x011\")\n",
        "\n",
        "factory = UniswapFactory(\"Pool de Liquidez ETH\", \"0x2\")\n",
        "lp = factory.deploy(exchg_data)\n",
        "Join().apply(lp, user_nm, eth_amount, dai_amount)\n",
        "lp.summary()"
      ],
      "metadata": {
        "colab": {
          "base_uri": "https://localhost:8080/"
        },
        "id": "NHI7ap4m1A5u",
        "outputId": "40d3347c-0a35-413f-8299-5ef3c1fe0581"
      },
      "execution_count": null,
      "outputs": [
        {
          "output_type": "stream",
          "name": "stdout",
          "text": [
            "Exchange ETH-DAI (LP)\n",
            "Reserves: ETH = 1000.0, DAI = 1000000.0\n",
            "Liquidity: 31622.776601683792 \n",
            "\n"
          ]
        }
      ]
    },
    {
      "cell_type": "markdown",
      "source": [
        "Swap por derivação da equação:"
      ],
      "metadata": {
        "id": "zQymVf-Uq5P-"
      }
    },
    {
      "cell_type": "code",
      "source": [
        "dy = 1000 # Usuário envia 1000 DAI\n",
        "\n",
        "gamma = 997/1000  # gama (fee) = 1- 0.003 = 997/1000\n",
        "\n",
        "x = lp.get_reserve(eth)\n",
        "y = lp.get_reserve(dai)\n",
        "\n",
        "dx = (gamma*x*dy)/(y + gamma*dy)\n",
        "\n",
        "print(f'Recebemos {dx:.5f} ETH para {dy} DAI')"
      ],
      "metadata": {
        "colab": {
          "base_uri": "https://localhost:8080/"
        },
        "id": "kYlQresL1C8m",
        "outputId": "b3763797-c387-40de-e799-b975ef4f88a2"
      },
      "execution_count": null,
      "outputs": [
        {
          "output_type": "stream",
          "name": "stdout",
          "text": [
            "Recebemos 0.99601 ETH para 1000 DAI\n"
          ]
        }
      ]
    },
    {
      "cell_type": "markdown",
      "source": [
        "Swap utilizando a biblioteca Uniswappy"
      ],
      "metadata": {
        "id": "M3lhe1scq-jt"
      }
    },
    {
      "cell_type": "code",
      "source": [
        "# dy é a quantidade enviada pelo usuário\n",
        "out = Swap().apply(lp, dai, user_nm, dy)\n",
        "lp.summary()\n",
        "\n",
        "print(f'Recebemos {out:.5f} ETH para {dy} DAI')"
      ],
      "metadata": {
        "colab": {
          "base_uri": "https://localhost:8080/"
        },
        "id": "4syg8Jz-2oRt",
        "outputId": "42b7b4cd-76a8-4b60-cc9c-a1d99168fc41"
      },
      "execution_count": null,
      "outputs": [
        {
          "output_type": "stream",
          "name": "stdout",
          "text": [
            "Exchange ETH-DAI (LP)\n",
            "Reserves: ETH = 999.00399301896, DAI = 1001000.0\n",
            "Liquidity: 31622.776601683792 \n",
            "\n",
            "Recebemos 0.99601 ETH para 1000 DAI\n"
          ]
        }
      ]
    },
    {
      "cell_type": "code",
      "source": [
        "L = lp.get_liquidity()\n",
        "x2 = lp.get_reserve(eth)\n",
        "y2 = lp.get_reserve(dai)\n",
        "\n",
        "x_arr = np.arange(990, 1010, 0.01)\n",
        "y_arr = L**2/x_arr\n",
        "\n",
        "fig, (ax) = plt.subplots(nrows=1, sharex=False, sharey=False, figsize=(10, 5))\n",
        "ax.plot(x_arr, y_arr, color = 'b',linestyle = 'dashdot', label='initial invest')\n",
        "ax.plot(x, y, 'ro', color='r')\n",
        "ax.plot(x2, y2, 'ro', color='g')\n",
        "\n",
        "ax.hlines(y=y2, xmin=0, xmax=x2, linewidth=1, color='g', linestyle = 'dashed')\n",
        "ax.vlines(x = x2, ymin=0, ymax=y2, linewidth=1, color='g', linestyle = 'dashed')\n",
        "\n",
        "ax.hlines(y= y, xmin=0, xmax=x, linewidth=1, color='r', linestyle = 'dashed')\n",
        "ax.vlines(x = x, ymin=0, ymax=y, linewidth=1, color='r', linestyle = 'dashed')\n",
        "\n",
        "ax.annotate('post-swap', xy=(x2, y2),xytext=(x2+5, y2+5000), arrowprops=dict(facecolor='green',width=0.5,headwidth=10,headlength=10))\n",
        "ax.annotate('pre-swap', xy=(x, y),xytext=(x2+7, y2+2000), arrowprops=dict(facecolor='red',width=0.5,headwidth=10,headlength=10))\n",
        "\n",
        "ax.set_title(f'Swap baseado na curva de preço', fontsize=20)\n",
        "ax.set_ylabel(f'{dai.token_name} Reserva', size=15)\n",
        "ax.set_xlabel(f'{eth.token_name} Reserva', size=15)\n",
        "ax.set_xlim((990,1010))\n",
        "ax.set_ylim((992000,1008000))"
      ],
      "metadata": {
        "colab": {
          "base_uri": "https://localhost:8080/",
          "height": 519
        },
        "id": "K2K5azF62rij",
        "outputId": "42f0cc44-b276-4e89-df20-661c8d75ef37"
      },
      "execution_count": null,
      "outputs": [
        {
          "output_type": "execute_result",
          "data": {
            "text/plain": [
              "(992000.0, 1008000.0)"
            ]
          },
          "metadata": {},
          "execution_count": 27
        },
        {
          "output_type": "display_data",
          "data": {
            "text/plain": [
              "<Figure size 1000x500 with 1 Axes>"
            ],
            "image/png": "[encoded data removed]"
          },
          "metadata": {}
        }
      ]
    },
    {
      "cell_type": "code",
      "source": [
        "# Intervalo ampliado para mostrar curvatura\n",
        "x_arr = np.linspace(500, 1500, 1000)\n",
        "y_arr = L**2 / x_arr\n",
        "\n",
        "fig, ax = plt.subplots(figsize=(10, 5))\n",
        "ax.plot(x_arr, y_arr, color='b', linestyle='dashdot', label='Curva de preço (x·y = k)')\n",
        "ax.plot(x, y, 'ro', label='pre-swap')\n",
        "ax.plot(x2, y2, 'go', label='post-swap')\n",
        "\n",
        "ax.hlines(y=y2, xmin=0, xmax=x2, linewidth=1, color='g', linestyle='dashed')\n",
        "ax.vlines(x=x2, ymin=0, ymax=y2, linewidth=1, color='g', linestyle='dashed')\n",
        "ax.hlines(y=y, xmin=0, xmax=x, linewidth=1, color='r', linestyle='dashed')\n",
        "ax.vlines(x=x, ymin=0, ymax=y, linewidth=1, color='r', linestyle='dashed')\n",
        "\n",
        "ax.annotate('post-swap', xy=(x2, y2), xytext=(x2+100, y2+10000),\n",
        "            arrowprops=dict(facecolor='green', width=0.5, headwidth=10, headlength=10))\n",
        "ax.annotate('pre-swap', xy=(x, y), xytext=(x+150, y+15000),\n",
        "            arrowprops=dict(facecolor='red', width=0.5, headwidth=10, headlength=10))\n",
        "\n",
        "ax.set_title('Swap baseado na curva de preço', fontsize=20)\n",
        "ax.set_ylabel(f'{dai.token_name} Reserva', size=15)\n",
        "ax.set_xlabel(f'{eth.token_name} Reserva', size=15)\n",
        "ax.legend()\n",
        "ax.grid(True)\n",
        "plt.tight_layout()\n",
        "plt.show()"
      ],
      "metadata": {
        "colab": {
          "base_uri": "https://localhost:8080/",
          "height": 507
        },
        "id": "p9XbByXz2BXQ",
        "outputId": "5d508b95-6945-4451-aef3-52643e9e6b0f"
      },
      "execution_count": null,
      "outputs": [
        {
          "output_type": "display_data",
          "data": {
            "text/plain": [
              "<Figure size 1000x500 with 1 Axes>"
            ],
            "image/png": "[encoded data removed]"
          },
          "metadata": {}
        }
      ]
    },
    {
      "cell_type": "code",
      "source": [
        "# import plotly.graph_objects as go\n",
        "# import numpy as np\n",
        "\n",
        "# # Intervalo ampliado\n",
        "# x_arr = np.linspace(500, 1500, 1000)\n",
        "# y_arr = L**2 / x_arr\n",
        "\n",
        "# fig = go.Figure()\n",
        "\n",
        "# # Curva da função x·y = k\n",
        "# fig.add_trace(go.Scatter(x=x_arr, y=y_arr, mode='lines',\n",
        "#                          name='Curva de preço (x·y = k)',\n",
        "#                          line=dict(color='blue', dash='dashdot')))\n",
        "\n",
        "# # Ponto pré-swap\n",
        "# fig.add_trace(go.Scatter(x=[x], y=[y], mode='markers',\n",
        "#                          name='pre-swap',\n",
        "#                          marker=dict(color='red', size=10)))\n",
        "\n",
        "# # Ponto pós-swap\n",
        "# fig.add_trace(go.Scatter(x=[x2], y=[y2], mode='markers',\n",
        "#                          name='post-swap',\n",
        "#                          marker=dict(color='green', size=10)))\n",
        "\n",
        "# # Linhas auxiliares pós-swap\n",
        "# fig.add_shape(type=\"line\", x0=0, x1=x2, y0=y2, y1=y2,\n",
        "#               line=dict(color=\"green\", width=1, dash=\"dash\"))\n",
        "# fig.add_shape(type=\"line\", x0=x2, x1=x2, y0=0, y1=y2,\n",
        "#               line=dict(color=\"green\", width=1, dash=\"dash\"))\n",
        "\n",
        "# # Linhas auxiliares pré-swap\n",
        "# fig.add_shape(type=\"line\", x0=0, x1=x, y0=y, y1=y,\n",
        "#               line=dict(color=\"red\", width=1, dash=\"dash\"))\n",
        "# fig.add_shape(type=\"line\", x0=x, x1=x, y0=0, y1=y,\n",
        "#               line=dict(color=\"red\", width=1, dash=\"dash\"))\n",
        "\n",
        "# # Anotações\n",
        "# fig.add_annotation(x=x2, y=y2,\n",
        "#                    text=\"post-swap\",\n",
        "#                    showarrow=True,\n",
        "#                    arrowhead=2,\n",
        "#                    ax=100, ay=-100,\n",
        "#                    font=dict(color='green'))\n",
        "\n",
        "# fig.add_annotation(x=x, y=y,\n",
        "#                    text=\"pre-swap\",\n",
        "#                    showarrow=True,\n",
        "#                    arrowhead=2,\n",
        "#                    ax=150, ay=-150,\n",
        "#                    font=dict(color='red'))\n",
        "\n",
        "# # Layout\n",
        "# fig.update_layout(title='Swap baseado na curva de preço',\n",
        "#                   xaxis_title=f'{eth.token_name} Reserva',\n",
        "#                   yaxis_title=f'{dai.token_name} Reserva',\n",
        "#                   legend=dict(x=0.01, y=0.99),\n",
        "#                   width=900,\n",
        "#                   height=500)\n",
        "\n",
        "# fig.show()\n"
      ],
      "metadata": {
        "id": "ukPsw6is2WAV"
      },
      "execution_count": null,
      "outputs": []
    },
    {
      "cell_type": "code",
      "source": [
        "dai = ERC20(\"DAI\", \"0x111\")\n",
        "eth = ERC20(\"ETH\", \"0x09\")\n",
        "exchg_data = UniswapExchangeData(tkn0 = eth, tkn1 = dai, symbol=\"LP\", address=\"0x011\")\n",
        "\n",
        "factory = UniswapFactory(\"Pool de Liquidez ETH\", \"0x2\")\n",
        "lp = factory.deploy(exchg_data)\n",
        "Join().apply(lp, user_nm, eth_amount, dai_amount)\n",
        "lp.summary()"
      ],
      "metadata": {
        "colab": {
          "base_uri": "https://localhost:8080/"
        },
        "id": "HPqPpP-82tpg",
        "outputId": "3c2d5280-a0df-4274-90e5-991819795a42"
      },
      "execution_count": null,
      "outputs": [
        {
          "output_type": "stream",
          "name": "stdout",
          "text": [
            "Exchange ETH-DAI (LP)\n",
            "Reserves: ETH = 1000.0, DAI = 1000000.0\n",
            "Liquidity: 31622.776601683792 \n",
            "\n"
          ]
        }
      ]
    },
    {
      "cell_type": "markdown",
      "source": [
        "Cálculo da retirada utilizando por derivação"
      ],
      "metadata": {
        "id": "k20MJDYX4RlN"
      }
    },
    {
      "cell_type": "code",
      "source": [
        "dx = 1\n",
        "x = lp.get_reserve(eth)\n",
        "y = lp.get_reserve(dai)\n",
        "L = lp.get_liquidity()"
      ],
      "metadata": {
        "id": "SE5bPmJS2w4h"
      },
      "execution_count": null,
      "outputs": []
    },
    {
      "cell_type": "code",
      "source": [
        "dL = dx*L/x\n",
        "dy = y*dL/L\n",
        "new_x = (x-dx)\n",
        "new_y = (y-dy)\n",
        "new_L = L-dL\n",
        "\n",
        "print(f'As novas reservas são {new_x} ETH e {new_y} DAI, e a atualização do Liquidity {new_L:8f}')"
      ],
      "metadata": {
        "colab": {
          "base_uri": "https://localhost:8080/"
        },
        "id": "LGyCyL6a20s5",
        "outputId": "87f266b7-407b-4b77-9ab8-2811b1940562"
      },
      "execution_count": null,
      "outputs": [
        {
          "output_type": "stream",
          "name": "stdout",
          "text": [
            "As novas reservas são 999.0 ETH e 999000.0 DAI, e a atualização do Liquidity 31606.921732\n"
          ]
        }
      ]
    },
    {
      "cell_type": "markdown",
      "source": [
        "Cálculo da retirada utilizando Uniswappy"
      ],
      "metadata": {
        "id": "g5ee62AG4g3i"
      }
    },
    {
      "cell_type": "code",
      "source": [
        "RemoveLiquidity().apply(lp, eth, user_nm, dx)\n",
        "lp.summary()"
      ],
      "metadata": {
        "colab": {
          "base_uri": "https://localhost:8080/"
        },
        "id": "0FaNzMLf23Yp",
        "outputId": "cad87715-08e5-465c-da6d-aaaaa08bfd5b"
      },
      "execution_count": null,
      "outputs": [
        {
          "output_type": "stream",
          "name": "stdout",
          "text": [
            "Exchange ETH-DAI (LP)\n",
            "Reserves: ETH = 999.0, DAI = 999000.0\n",
            "Liquidity: 31591.15382508211 \n",
            "\n"
          ]
        }
      ]
    },
    {
      "cell_type": "code",
      "source": [
        "dai = ERC20(\"DAI\", \"0x111\")\n",
        "eth = ERC20(\"ETH\", \"0x09\")\n",
        "exchg_data = UniswapExchangeData(tkn0 = eth, tkn1 = dai, symbol=\"LP\", address=\"0x011\")\n",
        "\n",
        "factory = UniswapFactory(\"ETH pool factory\", \"0x2\")\n",
        "lp = factory.deploy(exchg_data)\n",
        "Join().apply(lp, user_nm, eth_amount, dai_amount)\n",
        "lp.summary()"
      ],
      "metadata": {
        "colab": {
          "base_uri": "https://localhost:8080/"
        },
        "id": "-52-akdS26R6",
        "outputId": "b8fc5fc6-decf-4321-f6fb-54622106b8cc"
      },
      "execution_count": null,
      "outputs": [
        {
          "output_type": "stream",
          "name": "stdout",
          "text": [
            "Exchange ETH-DAI (LP)\n",
            "Reserves: ETH = 1000.0, DAI = 1000000.0\n",
            "Liquidity: 31622.776601683792 \n",
            "\n"
          ]
        }
      ]
    },
    {
      "cell_type": "markdown",
      "source": [
        "Cálculo da soma utilizando por derivação"
      ],
      "metadata": {
        "id": "IjTSNIea5Cml"
      }
    },
    {
      "cell_type": "code",
      "source": [
        "dx = 1\n",
        "x = lp.get_reserve(eth)\n",
        "y = lp.get_reserve(dai)\n",
        "L = lp.get_liquidity()"
      ],
      "metadata": {
        "id": "NRlrw3DO29CT"
      },
      "execution_count": null,
      "outputs": []
    },
    {
      "cell_type": "code",
      "source": [
        "dL = dx*L/x\n",
        "dy = y*dL/L\n",
        "new_x = (x+dx)\n",
        "new_y = (y+dy)\n",
        "new_L = L+dL\n",
        "\n",
        "print(f'The updated reserves are {new_x} ETH and {new_y} DAI, and the updated liquidity is {new_L:8f}')"
      ],
      "metadata": {
        "colab": {
          "base_uri": "https://localhost:8080/"
        },
        "id": "51sFATJz2_NW",
        "outputId": "f004a5b5-4ce7-46c7-ad50-91871b3c492d"
      },
      "execution_count": null,
      "outputs": [
        {
          "output_type": "stream",
          "name": "stdout",
          "text": [
            "The updated reserves are 1001.0 ETH and 1001000.0 DAI, and the updated liquidity is 31654.399378\n"
          ]
        }
      ]
    },
    {
      "cell_type": "markdown",
      "source": [
        "Cálculo da soma utilizando Uniswappy"
      ],
      "metadata": {
        "id": "m2JKxNOd5Im5"
      }
    },
    {
      "cell_type": "code",
      "source": [
        "AddLiquidity().apply(lp, eth, user_nm, dx)\n",
        "lp.summary()"
      ],
      "metadata": {
        "colab": {
          "base_uri": "https://localhost:8080/"
        },
        "id": "0KaunodH3Drd",
        "outputId": "1312acb1-5399-495e-96f7-cf403b3d5df5"
      },
      "execution_count": null,
      "outputs": [
        {
          "output_type": "stream",
          "name": "stdout",
          "text": [
            "Exchange ETH-DAI (LP)\n",
            "Reserves: ETH = 1001.0, DAI = 1001000.0\n",
            "Liquidity: 31654.399378285478 \n",
            "\n"
          ]
        }
      ]
    },
    {
      "cell_type": "code",
      "source": [
        "dai = ERC20(\"DAI\", \"0x111\")\n",
        "eth = ERC20(\"ETH\", \"0x09\")\n",
        "exchg_data = UniswapExchangeData(tkn0 = eth, tkn1 = dai, symbol=\"LP\", address=\"0x011\")\n",
        "\n",
        "factory = UniswapFactory(\"ETH pool factory\", \"0x2\")\n",
        "lp = factory.deploy(exchg_data)\n",
        "Join().apply(lp, user_nm, eth_amount, dai_amount)\n",
        "lp.summary()"
      ],
      "metadata": {
        "colab": {
          "base_uri": "https://localhost:8080/"
        },
        "id": "mDw76TAs3GPb",
        "outputId": "26c4ad7b-7d84-49ba-d3ac-286c8321a1c9"
      },
      "execution_count": null,
      "outputs": [
        {
          "output_type": "stream",
          "name": "stdout",
          "text": [
            "Exchange ETH-DAI (LP)\n",
            "Reserves: ETH = 1000.0, DAI = 1000000.0\n",
            "Liquidity: 31622.776601683792 \n",
            "\n"
          ]
        }
      ]
    },
    {
      "cell_type": "code",
      "source": [
        "dy = 1\n",
        "amount_out = WithdrawSwap().apply(lp, eth, user_nm, dy)\n",
        "lp.summary()"
      ],
      "metadata": {
        "colab": {
          "base_uri": "https://localhost:8080/"
        },
        "id": "2Jf2cCDq3IaC",
        "outputId": "61997f97-e349-4cf9-fbf6-7fa7ec4e87e7"
      },
      "execution_count": null,
      "outputs": [
        {
          "output_type": "stream",
          "name": "stdout",
          "text": [
            "Exchange ETH-DAI (LP)\n",
            "Reserves: ETH = 999.0, DAI = 1000000.0\n",
            "Liquidity: 31606.937511796754 \n",
            "\n"
          ]
        }
      ]
    },
    {
      "cell_type": "code",
      "source": [
        "dai = ERC20(\"DAI\", \"0x111\")\n",
        "eth = ERC20(\"ETH\", \"0x09\")\n",
        "exchg_data = UniswapExchangeData(tkn0 = eth, tkn1 = dai, symbol=\"LP\", address=\"0x011\")\n",
        "\n",
        "factory = UniswapFactory(\"ETH pool factory\", \"0x2\")\n",
        "lp = factory.deploy(exchg_data)\n",
        "Join().apply(lp, user_nm, eth_amount, dai_amount)\n",
        "lp.summary()"
      ],
      "metadata": {
        "colab": {
          "base_uri": "https://localhost:8080/"
        },
        "id": "WUqy563x3N8v",
        "outputId": "f4859306-fc96-4078-dcf2-972053874240"
      },
      "execution_count": null,
      "outputs": [
        {
          "output_type": "stream",
          "name": "stdout",
          "text": [
            "Exchange ETH-DAI (LP)\n",
            "Reserves: ETH = 1000.0, DAI = 1000000.0\n",
            "Liquidity: 31622.776601683792 \n",
            "\n"
          ]
        }
      ]
    },
    {
      "cell_type": "code",
      "source": [
        "dy = 1\n",
        "dep = SwapDeposit().apply(lp, eth, user_nm, dy)\n",
        "lp.summary()"
      ],
      "metadata": {
        "colab": {
          "base_uri": "https://localhost:8080/"
        },
        "id": "zeBQNvsR3P75",
        "outputId": "a04b121b-d5c0-486b-e016-1b15d36a9aef"
      },
      "execution_count": null,
      "outputs": [
        {
          "output_type": "stream",
          "name": "stdout",
          "text": [
            "Exchange ETH-DAI (LP)\n",
            "Reserves: ETH = 1001.0, DAI = 1000000.0\n",
            "Liquidity: 31638.56029234534 \n",
            "\n"
          ]
        }
      ]
    },
    {
      "cell_type": "code",
      "source": [],
      "metadata": {
        "id": "Aoub8wmz3SMI"
      },
      "execution_count": null,
      "outputs": []
    }
  ]
}