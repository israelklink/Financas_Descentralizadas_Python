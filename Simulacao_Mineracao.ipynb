{
  "nbformat": 4,
  "nbformat_minor": 0,
  "metadata": {
    "colab": {
      "provenance": [],
      "mount_file_id": "1bHEF0c5PtVTAAllehnDKafvCtG3cSRXv",
      "authorship_tag": "ABX9TyPbuEFdQuPYRnUY7wq/qDMh",
      "include_colab_link": true
    },
    "kernelspec": {
      "name": "python3",
      "display_name": "Python 3"
    },
    "language_info": {
      "name": "python"
    }
  },
  "cells": [
    {
      "cell_type": "markdown",
      "metadata": {
        "id": "view-in-github",
        "colab_type": "text"
      },
      "source": [
        "<a href=\"https://colab.research.google.com/github/israelklink/Financas_Descentralizadas_Python/blob/main/Simulacao_Mineracao.ipynb\" target=\"_parent\"><img src=\"https://colab.research.google.com/assets/colab-badge.svg\" alt=\"Open In Colab\"/></a>"
      ]
    },
    {
      "cell_type": "markdown",
      "source": [
        "**O que o código faz:**\n",
        "\n",
        "- Usa SHA-256 para simular a mineração.\n",
        "- Tenta diferentes valores de nonce até encontrar um hash que começa com '00000' (5 zeros).\n",
        "- Mostra o nonce e o tempo necessário para \"minerar\" o bloco."
      ],
      "metadata": {
        "id": "QooemOMVKx7t"
      }
    },
    {
      "cell_type": "code",
      "source": [
        "import hashlib\n",
        "import time\n",
        "import threading"
      ],
      "metadata": {
        "id": "-zNOnbF3LVc1"
      },
      "execution_count": 6,
      "outputs": []
    },
    {
      "cell_type": "code",
      "source": [
        "\n",
        "def mine_block(data, difficulty):\n",
        "    nonce = 0\n",
        "    start_time = time.time()\n",
        "\n",
        "    while True:\n",
        "        # Cria o conteúdo que será transformado em hash\n",
        "        block_content = f\"{data}{nonce}\"\n",
        "        block_hash = hashlib.sha256(block_content.encode()).hexdigest()\n",
        "\n",
        "        # Verifica se o hash começa com N zeros (dificuldade)\n",
        "        if block_hash.startswith('0' * difficulty):\n",
        "            elapsed_time = time.time() - start_time\n",
        "            print(f\"Bloco minerado com sucesso!\")\n",
        "            print(f\"Nonce encontrado: {nonce}\")\n",
        "            print(f\"Hash: {block_hash}\")\n",
        "            print(f\"Tempo levado: {elapsed_time:.2f} segundos\")\n",
        "            break\n",
        "\n",
        "        nonce += 1\n",
        "\n",
        "# Exemplo de uso\n",
        "data = \"Transações do bloco 123\"\n",
        "difficulty = 5  # Ajuste a dificuldade (mais zeros = mais difícil)\n",
        "\n",
        "mine_block(data, difficulty)\n"
      ],
      "metadata": {
        "id": "Aoub8wmz3SMI",
        "colab": {
          "base_uri": "https://localhost:8080/"
        },
        "outputId": "a07796df-bc30-47ec-c595-1da6a5722c14"
      },
      "execution_count": 7,
      "outputs": [
        {
          "output_type": "stream",
          "name": "stdout",
          "text": [
            "Bloco minerado com sucesso!\n",
            "Nonce encontrado: 280216\n",
            "Hash: 00000484b3b07fd1494b491e8a9cffaec7650d54dc65f0f03dfe3b9972cdf26a\n",
            "Tempo levado: 0.38 segundos\n"
          ]
        }
      ]
    },
    {
      "cell_type": "code",
      "source": [],
      "metadata": {
        "id": "dPlo5zuuKmos"
      },
      "execution_count": null,
      "outputs": []
    },
    {
      "cell_type": "markdown",
      "source": [
        "**Versão com múltiplos mineradores (multithreading)**"
      ],
      "metadata": {
        "id": "eYd6yl_zLX5P"
      }
    },
    {
      "cell_type": "code",
      "source": [
        "\n",
        "# Parâmetros globais\n",
        "data = \"Transações do bloco 123\"\n",
        "difficulty = 5  # número de zeros no início do hash\n",
        "found = False  # flag para parar os outros mineradores quando um encontrar\n",
        "\n",
        "def mine_block(miner_id):\n",
        "    global found\n",
        "    nonce = 0\n",
        "\n",
        "    start_time = time.time()\n",
        "    while not found:\n",
        "        # Cria o conteúdo do bloco com o nonce\n",
        "        block_content = f\"{data}{nonce}\"\n",
        "        block_hash = hashlib.sha256(block_content.encode()).hexdigest()\n",
        "\n",
        "        # Verifica se o hash atende à dificuldade\n",
        "        if block_hash.startswith('0' * difficulty):\n",
        "            elapsed = time.time() - start_time\n",
        "            found = True\n",
        "            print(f\"\\n✅ Minerador {miner_id} encontrou o bloco!\")\n",
        "            print(f\"Nonce: {nonce}\")\n",
        "            print(f\"Hash: {block_hash}\")\n",
        "            print(f\"Tempo: {elapsed:.2f} segundos\")\n",
        "            break\n",
        "\n",
        "        nonce += 1\n",
        "\n",
        "# Criando múltiplos mineradores (threads)\n",
        "def start_mining(num_miners=4):\n",
        "    print(f\"🚀 Iniciando mineração com {num_miners} mineradores...\")\n",
        "    threads = []\n",
        "    for i in range(num_miners):\n",
        "        t = threading.Thread(target=mine_block, args=(i+1,))\n",
        "        threads.append(t)\n",
        "        t.start()\n",
        "\n",
        "    for t in threads:\n",
        "        t.join()\n",
        "\n",
        "# Executar\n",
        "start_mining(num_miners=4)\n"
      ],
      "metadata": {
        "colab": {
          "base_uri": "https://localhost:8080/"
        },
        "id": "pFRSXtdoLJcs",
        "outputId": "bff2d4f6-56b7-4199-e1ea-70d069bc56b0"
      },
      "execution_count": 10,
      "outputs": [
        {
          "output_type": "stream",
          "name": "stdout",
          "text": [
            "🚀 Iniciando mineração com 4 mineradores...\n",
            "\n",
            "✅ Minerador 1 encontrou o bloco!\n",
            "Nonce: 280216\n",
            "Hash: 00000484b3b07fd1494b491e8a9cffaec7650d54dc65f0f03dfe3b9972cdf26a\n",
            "Tempo: 1.45 segundos\n"
          ]
        }
      ]
    },
    {
      "cell_type": "code",
      "source": [],
      "metadata": {
        "id": "MgkMUc_ILJ74"
      },
      "execution_count": null,
      "outputs": []
    }
  ]
}